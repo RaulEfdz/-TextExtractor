{
  "nbformat": 4,
  "nbformat_minor": 0,
  "metadata": {
    "colab": {
      "provenance": []
    },
    "kernelspec": {
      "name": "python3",
      "display_name": "Python 3"
    },
    "language_info": {
      "name": "python"
    }
  },
  "cells": [
    {
      "cell_type": "code",
      "source": [
        "# Instalamos pytesseract\n",
        "!pip install pytesseract\n",
        "\n",
        "# Instalamos Tesseract-OCR\n",
        "!apt-get install tesseract-ocr\n",
        "\n",
        "# Instalamos pdf2image\n",
        "!pip install pdf2image\n",
        "\n",
        "# Instalamos poppler-utils, necesario para pdf2image\n",
        "!apt-get install poppler-utils\n"
      ],
      "metadata": {
        "id": "lXs50mxjq-aN"
      },
      "execution_count": null,
      "outputs": []
    },
    {
      "cell_type": "code",
      "execution_count": null,
      "metadata": {
        "id": "AO1vu_Ynl_rn"
      },
      "outputs": [],
      "source": [
        "# Importamos las bibliotecas necesarias\n",
        "import cv2\n",
        "import pytesseract\n",
        "import numpy as np  # Importamos numpy\n",
        "from google.colab import files\n",
        "from pdf2image import convert_from_path\n",
        "import tempfile\n",
        "\n",
        "# Instalamos pytesseract\n",
        "!pip install pytesseract\n",
        "\n",
        "# Instalamos Tesseract-OCR\n",
        "!apt-get install tesseract-ocr -y\n",
        "\n",
        "# Instalamos pdf2image\n",
        "!pip install pdf2image\n",
        "\n",
        "# Instalamos poppler-utils, necesario para pdf2image\n",
        "!apt-get install poppler-utils -y\n",
        "\n",
        "# Función para extraer texto de una imagen\n",
        "def extract_text_from_image(image):\n",
        "    # Convertimos la imagen a escala de grises\n",
        "    gray_image = cv2.cvtColor(image, cv2.COLOR_BGR2GRAY)\n",
        "    # Aplicamos un filtro gaussiano para reducir el ruido\n",
        "    blurred_image = cv2.GaussianBlur(gray_image, (5, 5), 0)\n",
        "    # Utilizamos pytesseract para extraer el texto de la imagen\n",
        "    extracted_text = pytesseract.image_to_string(blurred_image)\n",
        "    return extracted_text\n",
        "\n",
        "# Función para manejar archivos, puede ser imagen o PDF\n",
        "def process_file(file_path):\n",
        "    if file_path.lower().endswith('.pdf'):\n",
        "        # Temporalmente almacenamos las imágenes extraídas del PDF\n",
        "        with tempfile.TemporaryDirectory() as path:\n",
        "            images_from_path = convert_from_path(file_path, output_folder=path)\n",
        "            for image in images_from_path:\n",
        "                image_cv = cv2.cvtColor(np.array(image), cv2.COLOR_RGB2BGR)\n",
        "                print(extract_text_from_image(image_cv))\n",
        "    else:\n",
        "        # Proceso para imágenes\n",
        "        image_cv = cv2.imread(file_path)\n",
        "        print(extract_text_from_image(image_cv))\n",
        "\n",
        "# Subimos el archivo desde nuestro sistema local\n",
        "uploaded = files.upload()\n",
        "\n",
        "# Extraemos el texto del archivo subido\n",
        "for file_name in uploaded.keys():\n",
        "    print(f\"Extrayendo texto de {file_name}:\")\n",
        "    process_file(file_name)\n"
      ]
    }
  ]
}